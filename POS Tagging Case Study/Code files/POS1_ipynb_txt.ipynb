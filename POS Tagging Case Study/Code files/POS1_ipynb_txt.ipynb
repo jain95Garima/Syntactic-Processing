{
  "nbformat": 4,
  "nbformat_minor": 2,
  "metadata": {
    "kernelspec": {
      "name": "python3",
      "display_name": "Python 3.9.0 64-bit"
    },
    "language_info": {
      "codemirror_mode": {
        "name": "ipython",
        "version": 3
      },
      "file_extension": ".py",
      "mimetype": "text/x-python",
      "name": "python",
      "nbconvert_exporter": "python",
      "pygments_lexer": "ipython3",
      "version": "3.9.0"
    },
    "colab": {
      "name": "POS1_ipynb_txt.ipynb",
      "provenance": []
    },
    "interpreter": {
      "hash": "7b0987eb048bc67679bde2916d1dbdc127c48e4edcf859f572e1fb6c59e866e6"
    }
  },
  "cells": [
    {
      "cell_type": "markdown",
      "source": [
        "## Importing libraries"
      ],
      "metadata": {
        "id": "OKcXwoZHurtB"
      }
    },
    {
      "cell_type": "code",
      "execution_count": 3,
      "source": [
        "import pandas as pd\r\n",
        "import numpy as np\r\n",
        "import os"
      ],
      "outputs": [],
      "metadata": {
        "id": "r5zWwc1_urtR"
      }
    },
    {
      "cell_type": "markdown",
      "source": [
        "### How do we identify product features?\n",
        "<img src = \"./images/keywords.png\">"
      ],
      "metadata": {
        "id": "Bd28EuN3urtT"
      }
    },
    {
      "cell_type": "code",
      "execution_count": 2,
      "source": [
        "sent1 = \"I loved the screen on this phone.\"\r\n",
        "sent2 = \"The battery life on this phone is great.\"\r\n",
        "sent3 = \"The speakers are pathetic.\""
      ],
      "outputs": [],
      "metadata": {
        "id": "5zP8A4ysurtU"
      }
    },
    {
      "cell_type": "markdown",
      "source": [
        "### Lets do a POS parse and see if we can figure out some patterns."
      ],
      "metadata": {
        "id": "CT_yMlbiurtV"
      }
    },
    {
      "cell_type": "code",
      "execution_count": 5,
      "source": [
        "pip install spacy"
      ],
      "outputs": [],
      "metadata": {}
    },
    {
      "cell_type": "code",
      "execution_count": 4,
      "source": [
        "import spacy \r\n",
        "nlp = spacy.load(\"en_core_web_sm\")"
      ],
      "outputs": [
        {
          "output_type": "error",
          "ename": "ModuleNotFoundError",
          "evalue": "No module named 'spacy'",
          "traceback": [
            "\u001b[1;31m---------------------------------------------------------------------------\u001b[0m",
            "\u001b[1;31mModuleNotFoundError\u001b[0m                       Traceback (most recent call last)",
            "\u001b[1;32m<ipython-input-4-dfdb0f96db9f>\u001b[0m in \u001b[0;36m<module>\u001b[1;34m\u001b[0m\n\u001b[1;32m----> 1\u001b[1;33m \u001b[1;32mimport\u001b[0m \u001b[0mspacy\u001b[0m\u001b[1;33m\u001b[0m\u001b[1;33m\u001b[0m\u001b[0m\n\u001b[0m\u001b[0;32m      2\u001b[0m \u001b[0mnlp\u001b[0m \u001b[1;33m=\u001b[0m \u001b[0mspacy\u001b[0m\u001b[1;33m.\u001b[0m\u001b[0mload\u001b[0m\u001b[1;33m(\u001b[0m\u001b[1;34m\"en_core_web_sm\"\u001b[0m\u001b[1;33m)\u001b[0m\u001b[1;33m\u001b[0m\u001b[1;33m\u001b[0m\u001b[0m\n",
            "\u001b[1;31mModuleNotFoundError\u001b[0m: No module named 'spacy'"
          ]
        }
      ],
      "metadata": {
        "id": "XYXVM2CrurtW"
      }
    },
    {
      "cell_type": "code",
      "execution_count": null,
      "source": [
        "doc1 = nlp(sent1)\r\n",
        "for tok in doc1:\r\n",
        "    print(tok.text,tok.pos_)"
      ],
      "outputs": [
        {
          "output_type": "stream",
          "name": "stdout",
          "text": [
            "I PRON\n",
            "loved VERB\n",
            "the DET\n",
            "screen NOUN\n",
            "on ADP\n",
            "this DET\n",
            "phone NOUN\n",
            ". PUNCT\n"
          ]
        }
      ],
      "metadata": {
        "id": "kD53XzhEurtX",
        "outputId": "c4e2e3eb-0c29-4ec0-be3b-feef37646d59"
      }
    },
    {
      "cell_type": "code",
      "execution_count": null,
      "source": [
        "doc2 = nlp(sent2)\n",
        "for tok in doc2:\n",
        "    print(tok.text,tok.pos_)"
      ],
      "outputs": [
        {
          "output_type": "stream",
          "name": "stdout",
          "text": [
            "The DET\n",
            "battery NOUN\n",
            "life NOUN\n",
            "on ADP\n",
            "this DET\n",
            "phone NOUN\n",
            "is AUX\n",
            "great ADJ\n",
            ". PUNCT\n"
          ]
        }
      ],
      "metadata": {
        "id": "RAHWa3uturtZ",
        "outputId": "1e9d3adf-857f-4343-8a71-296fc7340a6d"
      }
    },
    {
      "cell_type": "code",
      "execution_count": null,
      "source": [
        "doc3 = nlp(sent3)\n",
        "for tok in doc3:\n",
        "    print(tok.text,tok.pos_)"
      ],
      "outputs": [
        {
          "output_type": "stream",
          "name": "stdout",
          "text": [
            "The DET\n",
            "speakers NOUN\n",
            "are AUX\n",
            "pathetic ADJ\n",
            ". PUNCT\n"
          ]
        }
      ],
      "metadata": {
        "id": "5z-Q-Rakurta",
        "outputId": "93b1956a-2d1a-453b-bc85-896a1a1018bc"
      }
    },
    {
      "cell_type": "markdown",
      "source": [
        "#### **Product features such as `screen`, `battery`, `speaker` have a POS tag of NOUN**"
      ],
      "metadata": {
        "id": "EWh298c3urte"
      }
    },
    {
      "cell_type": "markdown",
      "source": [
        "## Summary\n",
        "- Product features such as `screen`, `battery` and `speaker` have a POS tag of Noun\n",
        "- If we can find the frequency count of all the nouns in our data, then by looking at top-n nouns we can find out what product features people are talking about\n",
        "- Check hypothesis on a real world dataset"
      ],
      "metadata": {
        "id": "XrtRHVfUurtf"
      }
    },
    {
      "cell_type": "code",
      "execution_count": null,
      "source": [],
      "outputs": [],
      "metadata": {
        "id": "tmqDwHWBurtg"
      }
    }
  ]
}